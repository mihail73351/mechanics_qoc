{
 "cells": [
  {
   "cell_type": "code",
   "execution_count": 14,
   "id": "22656b1a-27e8-4768-96d4-094cf450374c",
   "metadata": {},
   "outputs": [
    {
     "ename": "TypeError",
     "evalue": "'Symbol' object is not callable",
     "output_type": "error",
     "traceback": [
      "\u001b[0;31m---------------------------------------------------------------------------\u001b[0m",
      "\u001b[0;31mTypeError\u001b[0m                                 Traceback (most recent call last)",
      "Cell \u001b[0;32mIn[14], line 3\u001b[0m\n\u001b[1;32m      1\u001b[0m \u001b[38;5;66;03m# Определяем уравнение\u001b[39;00m\n\u001b[1;32m      2\u001b[0m y, t, x, rho, r, T \u001b[38;5;241m=\u001b[39m sp\u001b[38;5;241m.\u001b[39msymbols(\u001b[38;5;124m'\u001b[39m\u001b[38;5;124my t x rho r T\u001b[39m\u001b[38;5;124m'\u001b[39m)\n\u001b[0;32m----> 3\u001b[0m equation \u001b[38;5;241m=\u001b[39m sp\u001b[38;5;241m.\u001b[39mEq(rho \u001b[38;5;241m*\u001b[39m \u001b[43my\u001b[49m\u001b[43m(\u001b[49m\u001b[43mt\u001b[49m\u001b[43m,\u001b[49m\u001b[43m \u001b[49m\u001b[43mx\u001b[49m\u001b[43m)\u001b[49m\u001b[38;5;241m.\u001b[39mdiff(t, t)  \u001b[38;5;241m+\u001b[39m  r \u001b[38;5;241m*\u001b[39m y(t, x)\u001b[38;5;241m.\u001b[39mdiff(t)  \u001b[38;5;241m-\u001b[39m  T \u001b[38;5;241m*\u001b[39m y(t, x)\u001b[38;5;241m.\u001b[39mdiff(x, x), \u001b[38;5;241m0\u001b[39m)\n\u001b[1;32m      5\u001b[0m \u001b[38;5;66;03m# Решаем уравнение\u001b[39;00m\n\u001b[1;32m      6\u001b[0m solution \u001b[38;5;241m=\u001b[39m sp\u001b[38;5;241m.\u001b[39mdsolve(equation, y)\n",
      "\u001b[0;31mTypeError\u001b[0m: 'Symbol' object is not callable"
     ]
    }
   ],
   "source": [
    "# Определяем уравнение\n",
    "rho, r, T = sp.symbols('rho r T')\n",
    "equation = sp.Eq(rho * y(t, x).diff(t, t)  +  r * y(t, x).diff(t)  -  T * y(t, x).diff(x, x), 0)\n",
    "\n",
    "# Решаем уравнение\n",
    "solution = sp.dsolve(equation, y)\n",
    "\n",
    "print(solution)"
   ]
  },
  {
   "cell_type": "code",
   "execution_count": null,
   "id": "c0e9204f-771d-4343-8d1e-e9efe381e6ec",
   "metadata": {},
   "outputs": [],
   "source": []
  }
 ],
 "metadata": {
  "kernelspec": {
   "display_name": "Python 3 (ipykernel)",
   "language": "python",
   "name": "python3"
  },
  "language_info": {
   "codemirror_mode": {
    "name": "ipython",
    "version": 3
   },
   "file_extension": ".py",
   "mimetype": "text/x-python",
   "name": "python",
   "nbconvert_exporter": "python",
   "pygments_lexer": "ipython3",
   "version": "3.11.6"
  }
 },
 "nbformat": 4,
 "nbformat_minor": 5
}
